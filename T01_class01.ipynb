{
 "cells": [
  {
   "cell_type": "code",
   "execution_count": 1,
   "id": "2024a53b-5f36-485b-921d-96394397b3d0",
   "metadata": {},
   "outputs": [
    {
     "name": "stderr",
     "output_type": "stream",
     "text": [
      "[nltk_data] Downloading package punkt to\n",
      "[nltk_data]     C:\\Users\\ashmi\\AppData\\Roaming\\nltk_data...\n",
      "[nltk_data]   Unzipping tokenizers\\punkt.zip.\n"
     ]
    },
    {
     "data": {
      "text/plain": [
       "True"
      ]
     },
     "execution_count": 1,
     "metadata": {},
     "output_type": "execute_result"
    }
   ],
   "source": [
    "import nltk\n",
    "\n",
    "nltk.download('punkt')\n"
   ]
  },
  {
   "cell_type": "code",
   "execution_count": 4,
   "id": "3c808ae4-965e-4179-ac0a-8c523a5cdf2f",
   "metadata": {},
   "outputs": [
    {
     "name": "stdout",
     "output_type": "stream",
     "text": [
      "word tokenization :  ['I', 'am', 'learning', 'NLP', '.', 'I', 'am', 'happy', 'today', '.']\n",
      "sentence tokenization: ['I am learning NLP.', 'I am happy today.']\n"
     ]
    }
   ],
   "source": [
    "from nltk.tokenize import word_tokenize, sent_tokenize\n",
    "\n",
    "text = \"I am learning NLP. I am happy today.\"\n",
    "word_token = word_tokenize(text)\n",
    "print('word tokenization : ', word_token)\n",
    "\n",
    "sentence_token=sent_tokenize(text)\n",
    "print('sentence tokenization:', sentence_token)"
   ]
  },
  {
   "cell_type": "code",
   "execution_count": 5,
   "id": "66855333-b581-4d5e-a74b-445ffd1e1882",
   "metadata": {},
   "outputs": [
    {
     "name": "stdout",
     "output_type": "stream",
     "text": [
      "normalization:  i am learning nlp. i am happy today.\n"
     ]
    }
   ],
   "source": [
    "print('normalization: ', text.lower())"
   ]
  },
  {
   "cell_type": "code",
   "execution_count": 7,
   "id": "b956d9b4-28ba-443c-b39b-71f7d1db5abf",
   "metadata": {},
   "outputs": [
    {
     "name": "stdout",
     "output_type": "stream",
     "text": [
      "stemming: ['run', 'runner', 'ran', 'run', 'look', 'look', 'look', 'loser', 'look']\n",
      "lemmatizing: ['run', 'runner', 'run', 'run', 'look', 'look', 'look', 'loser', 'look']\n"
     ]
    },
    {
     "name": "stderr",
     "output_type": "stream",
     "text": [
      "[nltk_data] Downloading package wordnet to\n",
      "[nltk_data]     C:\\Users\\ashmi\\AppData\\Roaming\\nltk_data...\n",
      "[nltk_data]   Package wordnet is already up-to-date!\n"
     ]
    }
   ],
   "source": [
    "from nltk.stem import PorterStemmer\n",
    "stemmer = PorterStemmer()\n",
    "words = ['running','runner','ran','runs','looking','looks','looked','loser','looking']\n",
    "stemmed_words = [stemmer.stem(word) for word in words]\n",
    "print('stemming:', stemmed_words)\n",
    "\n",
    "from nltk.stem import WordNetLemmatizer\n",
    "\n",
    "lemmatizer = WordNetLemmatizer()\n",
    "import nltk\n",
    "nltk.download('wordnet')\n",
    "lemmatized_words = [lemmatizer.lemmatize(word,pos='v') for word in words]\n",
    "print('lemmatizing:' , lemmatized_words)"
   ]
  },
  {
   "cell_type": "code",
   "execution_count": null,
   "id": "1d487c0a-b74f-43de-a94f-c9dc8ce38012",
   "metadata": {},
   "outputs": [],
   "source": []
  }
 ],
 "metadata": {
  "kernelspec": {
   "display_name": "Python 3 (ipykernel)",
   "language": "python",
   "name": "python3"
  },
  "language_info": {
   "codemirror_mode": {
    "name": "ipython",
    "version": 3
   },
   "file_extension": ".py",
   "mimetype": "text/x-python",
   "name": "python",
   "nbconvert_exporter": "python",
   "pygments_lexer": "ipython3",
   "version": "3.11.5"
  }
 },
 "nbformat": 4,
 "nbformat_minor": 5
}
