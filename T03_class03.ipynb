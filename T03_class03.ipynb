{
 "cells": [
  {
   "cell_type": "code",
   "execution_count": 1,
   "id": "7745b394-6070-487c-830a-ff0838f241d3",
   "metadata": {},
   "outputs": [
    {
     "name": "stdout",
     "output_type": "stream",
     "text": [
      "['another' 'example' 'is' 'sample' 'sentence' 'text' 'this']\n",
      "[[0 0 1 1 0 1 1]\n",
      " [1 1 1 0 1 0 1]]\n"
     ]
    }
   ],
   "source": [
    "from sklearn.feature_extraction.text import CountVectorizer\n",
    "corpus=['this is a sample text','this sentence is another example']\n",
    "vectorizer=CountVectorizer()\n",
    "X=vectorizer.fit_transform(corpus)\n",
    "print(vectorizer.get_feature_names_out())\n",
    "print(X.toarray())"
   ]
  },
  {
   "cell_type": "code",
   "execution_count": 3,
   "id": "4794df19-15a4-4230-9ba7-1b91899031c1",
   "metadata": {},
   "outputs": [
    {
     "name": "stdout",
     "output_type": "stream",
     "text": [
      "['another' 'example' 'is' 'sample' 'sentence' 'text' 'this']\n",
      "[[0.         0.         0.40993715 0.57615236 0.         0.57615236\n",
      "  0.40993715]\n",
      " [0.49922133 0.49922133 0.35520009 0.         0.49922133 0.\n",
      "  0.35520009]]\n"
     ]
    }
   ],
   "source": [
    "from sklearn.feature_extraction.text import TfidfVectorizer\n",
    "corpus=['this is a sample text','this sentence is another example']\n",
    "vectorizer=TfidfVectorizer()\n",
    "X=vectorizer.fit_transform(corpus)\n",
    "print(vectorizer.get_feature_names_out())\n",
    "print(X.toarray())"
   ]
  },
  {
   "cell_type": "code",
   "execution_count": null,
   "id": "0ba4b6e1-c5c7-4a16-8ddf-210559448883",
   "metadata": {},
   "outputs": [],
   "source": []
  }
 ],
 "metadata": {
  "kernelspec": {
   "display_name": "Python 3 (ipykernel)",
   "language": "python",
   "name": "python3"
  },
  "language_info": {
   "codemirror_mode": {
    "name": "ipython",
    "version": 3
   },
   "file_extension": ".py",
   "mimetype": "text/x-python",
   "name": "python",
   "nbconvert_exporter": "python",
   "pygments_lexer": "ipython3",
   "version": "3.11.5"
  }
 },
 "nbformat": 4,
 "nbformat_minor": 5
}
